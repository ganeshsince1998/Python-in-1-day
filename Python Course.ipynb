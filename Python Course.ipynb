{
 "cells": [
  {
   "cell_type": "markdown",
   "metadata": {},
   "source": [
    "# Hello Everyone.\n",
    "# MySelf Ganesh Kasturi.\n",
    "# We will learn about the some basic Concepts of Programming Language.\n",
    "# Python Programming."
   ]
  },
  {
   "cell_type": "markdown",
   "metadata": {},
   "source": [
    "# Let's START"
   ]
  },
  {
   "cell_type": "code",
   "execution_count": 1,
   "metadata": {},
   "outputs": [
    {
     "name": "stdout",
     "output_type": "stream",
     "text": [
      "Ganesh kasturi\n"
     ]
    }
   ],
   "source": [
    "# To Print a Python Program u need only print command.\n",
    "print('Ganesh kasturi')"
   ]
  },
  {
   "cell_type": "markdown",
   "metadata": {},
   "source": [
    "# It's soo simple!!!!!!!!!!!!!!!!!!!!!!"
   ]
  },
  {
   "cell_type": "markdown",
   "metadata": {},
   "source": [
    "# 1) Variables and  Simple Data Types."
   ]
  },
  {
   "cell_type": "markdown",
   "metadata": {},
   "source": [
    "# You’ll learn about the different kinds of data you can work with in your Python programs. You’ll also learn how  to store your data in variables and how to use those variables in your programs."
   ]
  },
  {
   "cell_type": "code",
   "execution_count": 2,
   "metadata": {},
   "outputs": [
    {
     "name": "stdout",
     "output_type": "stream",
     "text": [
      "Welcome to self study Python\n"
     ]
    }
   ],
   "source": [
    "# We define variable to store value in it. (message) is a variable here and value is in ('')\n",
    "message = ('Welcome to self study Python')\n",
    "print(message)"
   ]
  },
  {
   "cell_type": "markdown",
   "metadata": {},
   "source": [
    "# String"
   ]
  },
  {
   "cell_type": "markdown",
   "metadata": {},
   "source": [
    "# A string is simply a series of characters.\n",
    "\n",
    "#                              Changing Case in a String with Methods.\n"
   ]
  },
  {
   "cell_type": "code",
   "execution_count": 3,
   "metadata": {},
   "outputs": [
    {
     "name": "stdout",
     "output_type": "stream",
     "text": [
      "Ganesh Kasturi\n"
     ]
    }
   ],
   "source": [
    "#title() metods is used to make everything string Title. See the difference.!\n",
    "message = ('ganesh kasturi')\n",
    "print(message.title())"
   ]
  },
  {
   "cell_type": "code",
   "execution_count": 4,
   "metadata": {},
   "outputs": [
    {
     "name": "stdout",
     "output_type": "stream",
     "text": [
      "we love india\n",
      "WE LOVE PYTHON\n"
     ]
    }
   ],
   "source": [
    "# upper and lower case \n",
    "text1 = ('WE LOVE INDIA')\n",
    "text2 = ('we love python')\n",
    "print(text1.lower())\n",
    "print(text2.upper())"
   ]
  },
  {
   "cell_type": "code",
   "execution_count": 5,
   "metadata": {},
   "outputs": [
    {
     "name": "stdout",
     "output_type": "stream",
     "text": [
      "Ganesh Kasturi\n"
     ]
    }
   ],
   "source": [
    "# Combining or Concatenating Strings.(+) is used to combine String\n",
    "first_name = 'Ganesh'\n",
    "second_name = 'Kasturi'\n",
    "full_name = first_name + \" \" + second_name\n",
    "print(full_name)"
   ]
  },
  {
   "cell_type": "code",
   "execution_count": 6,
   "metadata": {},
   "outputs": [
    {
     "name": "stdout",
     "output_type": "stream",
     "text": [
      "Hello, Ganesh Kasturi!\n"
     ]
    }
   ],
   "source": [
    "# add some more code.\n",
    "print('Hello, ' + full_name + '!')"
   ]
  },
  {
   "cell_type": "code",
   "execution_count": 8,
   "metadata": {},
   "outputs": [
    {
     "name": "stdout",
     "output_type": "stream",
     "text": [
      "\tPython\n"
     ]
    }
   ],
   "source": [
    "# To add a tab to your text, use the character combination (\\t)\n",
    "print('\\tPython')"
   ]
  },
  {
   "cell_type": "code",
   "execution_count": 9,
   "metadata": {},
   "outputs": [
    {
     "name": "stdout",
     "output_type": "stream",
     "text": [
      "Ganesh \n",
      " Kasturi\n"
     ]
    }
   ],
   "source": [
    "# To add a newline in a string, use the character combination (\\n)\n",
    "print('Ganesh \\n Kasturi')"
   ]
  },
  {
   "cell_type": "code",
   "execution_count": 14,
   "metadata": {},
   "outputs": [
    {
     "name": "stdout",
     "output_type": "stream",
     "text": [
      "Languages:\n",
      "\tPython\n",
      "\tC\n",
      "\tJavaScript\n"
     ]
    }
   ],
   "source": [
    "#both combine\n",
    "print('Languages:\\n\\tPython\\n\\tC\\n\\tJavaScript') "
   ]
  },
  {
   "cell_type": "markdown",
   "metadata": {},
   "source": [
    "# Numbers:"
   ]
  },
  {
   "cell_type": "markdown",
   "metadata": {},
   "source": [
    "# Integers\n",
    "# You can add (+), subtract (-), multiply (*), and divide (/) integers in Python. "
   ]
  },
  {
   "cell_type": "code",
   "execution_count": 15,
   "metadata": {},
   "outputs": [
    {
     "data": {
      "text/plain": [
       "5"
      ]
     },
     "execution_count": 15,
     "metadata": {},
     "output_type": "execute_result"
    }
   ],
   "source": [
    "2+3"
   ]
  },
  {
   "cell_type": "code",
   "execution_count": 16,
   "metadata": {},
   "outputs": [
    {
     "data": {
      "text/plain": [
       "4"
      ]
     },
     "execution_count": 16,
     "metadata": {},
     "output_type": "execute_result"
    }
   ],
   "source": [
    "5-1"
   ]
  },
  {
   "cell_type": "code",
   "execution_count": 17,
   "metadata": {},
   "outputs": [
    {
     "data": {
      "text/plain": [
       "12"
      ]
     },
     "execution_count": 17,
     "metadata": {},
     "output_type": "execute_result"
    }
   ],
   "source": [
    "2*6"
   ]
  },
  {
   "cell_type": "code",
   "execution_count": 18,
   "metadata": {},
   "outputs": [
    {
     "data": {
      "text/plain": [
       "0.8"
      ]
     },
     "execution_count": 18,
     "metadata": {},
     "output_type": "execute_result"
    }
   ],
   "source": [
    "4/5"
   ]
  },
  {
   "cell_type": "code",
   "execution_count": 19,
   "metadata": {},
   "outputs": [
    {
     "data": {
      "text/plain": [
       "16"
      ]
     },
     "execution_count": 19,
     "metadata": {},
     "output_type": "execute_result"
    }
   ],
   "source": [
    "4**2"
   ]
  },
  {
   "cell_type": "code",
   "execution_count": 20,
   "metadata": {},
   "outputs": [
    {
     "data": {
      "text/plain": [
       "25"
      ]
     },
     "execution_count": 20,
     "metadata": {},
     "output_type": "execute_result"
    }
   ],
   "source": [
    "#use this soo u understand it well\n",
    "(2+3) * 5"
   ]
  },
  {
   "cell_type": "markdown",
   "metadata": {},
   "source": [
    "# Floats"
   ]
  },
  {
   "cell_type": "code",
   "execution_count": 21,
   "metadata": {},
   "outputs": [
    {
     "data": {
      "text/plain": [
       "0.6"
      ]
     },
     "execution_count": 21,
     "metadata": {},
     "output_type": "execute_result"
    }
   ],
   "source": [
    "0.1+0.5"
   ]
  },
  {
   "cell_type": "code",
   "execution_count": 22,
   "metadata": {},
   "outputs": [
    {
     "data": {
      "text/plain": [
       "1.0"
      ]
     },
     "execution_count": 22,
     "metadata": {},
     "output_type": "execute_result"
    }
   ],
   "source": [
    "1.5-0.5"
   ]
  },
  {
   "cell_type": "code",
   "execution_count": 23,
   "metadata": {},
   "outputs": [
    {
     "data": {
      "text/plain": [
       "8.847999999999999"
      ]
     },
     "execution_count": 23,
     "metadata": {},
     "output_type": "execute_result"
    }
   ],
   "source": [
    "5.6*1.58"
   ]
  },
  {
   "cell_type": "code",
   "execution_count": 24,
   "metadata": {},
   "outputs": [
    {
     "data": {
      "text/plain": [
       "3.4"
      ]
     },
     "execution_count": 24,
     "metadata": {},
     "output_type": "execute_result"
    }
   ],
   "source": [
    "5.1/1.5"
   ]
  },
  {
   "cell_type": "code",
   "execution_count": 26,
   "metadata": {},
   "outputs": [
    {
     "name": "stdout",
     "output_type": "stream",
     "text": [
      "Happy 20rd Brithday\n"
     ]
    }
   ],
   "source": [
    "# str() function, which tells Python to represent non-string values as strings:\n",
    "age = 20\n",
    "message = ('Happy ' +str(age)+ 'rd Brithday')\n",
    "print(message)"
   ]
  },
  {
   "cell_type": "markdown",
   "metadata": {},
   "source": [
    "# List in Python:"
   ]
  },
  {
   "cell_type": "markdown",
   "metadata": {},
   "source": [
    "# A list is a collection of items in a particular order."
   ]
  },
  {
   "cell_type": "markdown",
   "metadata": {},
   "source": [
    " In Python, square brackets ([]) indicate a list, and individual elements\n",
    " in the list are separated by commas. \n"
   ]
  },
  {
   "cell_type": "code",
   "execution_count": 27,
   "metadata": {},
   "outputs": [
    {
     "name": "stdout",
     "output_type": "stream",
     "text": [
      "['Apple', 'Mango', 'Banana', 'Grapes']\n"
     ]
    }
   ],
   "source": [
    "#List simple code\n",
    "fruits = ['Apple','Mango','Banana','Grapes']\n",
    "print(fruits)"
   ]
  },
  {
   "cell_type": "markdown",
   "metadata": {},
   "source": [
    "Accessing Elements in a List:                                                               \n",
    "Lists are ordered collections, so you can access any element in a list by telling Python the position, or index, of the item desired.\n",
    "\n",
    "# Index Positions Start at 0, Not 1"
   ]
  },
  {
   "cell_type": "code",
   "execution_count": 31,
   "metadata": {},
   "outputs": [
    {
     "name": "stdout",
     "output_type": "stream",
     "text": [
      "Apple\n"
     ]
    }
   ],
   "source": [
    "fruits = ['Apple','Mango','Banana','Grapes'] # Index value 0 contain Apple.\n",
    "print(fruits[0])"
   ]
  },
  {
   "cell_type": "code",
   "execution_count": 32,
   "metadata": {},
   "outputs": [
    {
     "name": "stdout",
     "output_type": "stream",
     "text": [
      "Banana\n"
     ]
    }
   ],
   "source": [
    "fruits = ['Apple','Mango','Banana','Grapes']\n",
    "print(fruits[2])"
   ]
  },
  {
   "cell_type": "code",
   "execution_count": 34,
   "metadata": {},
   "outputs": [
    {
     "name": "stdout",
     "output_type": "stream",
     "text": [
      "Apple\n"
     ]
    }
   ],
   "source": [
    "#add string method also here.\n",
    "fruits = ['apple','Mango','Banana','Grapes'] # make a small to see the difference\n",
    "print(fruits[0].title())"
   ]
  },
  {
   "cell_type": "code",
   "execution_count": 36,
   "metadata": {},
   "outputs": [
    {
     "name": "stdout",
     "output_type": "stream",
     "text": [
      "Grapes\n"
     ]
    }
   ],
   "source": [
    "fruits = ['Apple','Mango','Banana','Grapes']# -1 return last element in a list\n",
    "print(fruits[-1])"
   ]
  },
  {
   "cell_type": "markdown",
   "metadata": {},
   "source": [
    "Modifying Elements in a List."
   ]
  },
  {
   "cell_type": "code",
   "execution_count": 37,
   "metadata": {},
   "outputs": [
    {
     "name": "stdout",
     "output_type": "stream",
     "text": [
      "['Apple', 'Mango', 'Banana', 'Grapes']\n"
     ]
    }
   ],
   "source": [
    "fruits = ['Apple','Mango','Banana','Grapes']\n",
    "print(fruits)"
   ]
  },
  {
   "cell_type": "code",
   "execution_count": 38,
   "metadata": {},
   "outputs": [
    {
     "name": "stdout",
     "output_type": "stream",
     "text": [
      "['Watermelon', 'Mango', 'Banana', 'Grapes']\n"
     ]
    }
   ],
   "source": [
    "fruits[0] = 'Watermelon'\n",
    "print(fruits)"
   ]
  },
  {
   "cell_type": "code",
   "execution_count": 39,
   "metadata": {},
   "outputs": [
    {
     "name": "stdout",
     "output_type": "stream",
     "text": [
      "['Watermelon', 'Mango', 'Banana', 'Onion']\n"
     ]
    }
   ],
   "source": [
    "fruits[3] = 'Onion'\n",
    "print(fruits)"
   ]
  },
  {
   "cell_type": "markdown",
   "metadata": {},
   "source": [
    "Adding Elements to a List"
   ]
  },
  {
   "cell_type": "markdown",
   "metadata": {},
   "source": [
    "The append() method makes it easy to build lists dynamically (At the end of the list!!!!!!)\n"
   ]
  },
  {
   "cell_type": "code",
   "execution_count": 40,
   "metadata": {},
   "outputs": [
    {
     "name": "stdout",
     "output_type": "stream",
     "text": [
      "['Apple', 'Mango', 'Banana', 'Grapes']\n"
     ]
    }
   ],
   "source": [
    "fruits = ['Apple','Mango','Banana','Grapes']\n",
    "print(fruits)"
   ]
  },
  {
   "cell_type": "code",
   "execution_count": 41,
   "metadata": {},
   "outputs": [
    {
     "name": "stdout",
     "output_type": "stream",
     "text": [
      "['Apple', 'Mango', 'Banana', 'Grapes', 'Watermelon']\n"
     ]
    }
   ],
   "source": [
    "fruits.append('Watermelon')\n",
    "print(fruits)"
   ]
  },
  {
   "cell_type": "code",
   "execution_count": 42,
   "metadata": {},
   "outputs": [
    {
     "name": "stdout",
     "output_type": "stream",
     "text": [
      "['Onion', 'Potato', 'lemon']\n"
     ]
    }
   ],
   "source": [
    "#empty list example\n",
    "veg = []\n",
    "veg.append('Onion')\n",
    "veg.append('Potato')\n",
    "veg.append('lemon')\n",
    "print(veg)"
   ]
  },
  {
   "cell_type": "code",
   "execution_count": 45,
   "metadata": {},
   "outputs": [
    {
     "name": "stdout",
     "output_type": "stream",
     "text": [
      "['Ginger', 'Ginger', 'Ginger', 'Onion', 'Potato', 'lemon']\n"
     ]
    }
   ],
   "source": [
    "# Add a new element at any position in your list by using the insert() method.\n",
    "veg.insert(0,'Ginger')\n",
    "print(veg)"
   ]
  },
  {
   "cell_type": "code",
   "execution_count": 46,
   "metadata": {},
   "outputs": [
    {
     "name": "stdout",
     "output_type": "stream",
     "text": [
      "['Ginger', 'Ginger', 'Ginger', 'Onion', 'Potato', 'lemon']\n"
     ]
    }
   ],
   "source": [
    "# Removing an Item Using the del Statement\n",
    "print(veg)"
   ]
  },
  {
   "cell_type": "code",
   "execution_count": 51,
   "metadata": {},
   "outputs": [
    {
     "name": "stdout",
     "output_type": "stream",
     "text": [
      "['Ginger', 'Ginger', 'Onion', 'Potato', 'lemon']\n"
     ]
    }
   ],
   "source": [
    "del veg[0]\n",
    "print(veg)"
   ]
  },
  {
   "cell_type": "code",
   "execution_count": 52,
   "metadata": {},
   "outputs": [
    {
     "name": "stdout",
     "output_type": "stream",
     "text": [
      "['Apple', 'Mango', 'Banana', 'Grapes']\n"
     ]
    }
   ],
   "source": [
    "# The pop() method removes the last item in a list.\n",
    "fruits = ['Apple','Mango','Banana','Grapes']\n",
    "print(fruits)"
   ]
  },
  {
   "cell_type": "code",
   "execution_count": 53,
   "metadata": {},
   "outputs": [
    {
     "name": "stdout",
     "output_type": "stream",
     "text": [
      "['Apple', 'Mango', 'Banana']\n"
     ]
    }
   ],
   "source": [
    "fruits.pop()\n",
    "print(fruits)"
   ]
  },
  {
   "cell_type": "code",
   "execution_count": 56,
   "metadata": {},
   "outputs": [
    {
     "name": "stdout",
     "output_type": "stream",
     "text": [
      "['Apple']\n"
     ]
    }
   ],
   "source": [
    "fruits.pop(1) # Using index position\n",
    "print(fruits)"
   ]
  },
  {
   "cell_type": "code",
   "execution_count": 57,
   "metadata": {},
   "outputs": [
    {
     "name": "stdout",
     "output_type": "stream",
     "text": [
      "[2, 5, 3, 4, 6, 1, 7, 9, 8]\n"
     ]
    }
   ],
   "source": [
    "# sort() method makes it relatively easy to sort a list.\n",
    "number = [2,5,3,4,6,1,7,9,8]\n",
    "print(number)"
   ]
  },
  {
   "cell_type": "code",
   "execution_count": 58,
   "metadata": {},
   "outputs": [
    {
     "name": "stdout",
     "output_type": "stream",
     "text": [
      "[1, 2, 3, 4, 5, 6, 7, 8, 9]\n"
     ]
    }
   ],
   "source": [
    "# sort\n",
    "number.sort()\n",
    "print(number)"
   ]
  },
  {
   "cell_type": "code",
   "execution_count": 59,
   "metadata": {},
   "outputs": [
    {
     "name": "stdout",
     "output_type": "stream",
     "text": [
      "[1, 2, 3, 4, 5, 6, 7, 8, 9]\n"
     ]
    }
   ],
   "source": [
    "# reverse the original order of a list, you can use the reverse() method. \n",
    "print(number)"
   ]
  },
  {
   "cell_type": "code",
   "execution_count": 60,
   "metadata": {},
   "outputs": [
    {
     "name": "stdout",
     "output_type": "stream",
     "text": [
      "[9, 8, 7, 6, 5, 4, 3, 2, 1]\n"
     ]
    }
   ],
   "source": [
    "number.reverse()\n",
    "print(number)"
   ]
  },
  {
   "cell_type": "markdown",
   "metadata": {},
   "source": [
    "# Looping Through an Entire List"
   ]
  },
  {
   "cell_type": "markdown",
   "metadata": {},
   "source": [
    " In for loop:\n",
    " for variable_name in list_name:\n",
    " print(variable_name) "
   ]
  },
  {
   "cell_type": "code",
   "execution_count": 61,
   "metadata": {},
   "outputs": [
    {
     "name": "stdout",
     "output_type": "stream",
     "text": [
      "1\n",
      "2\n",
      "3\n",
      "3\n",
      "4\n",
      "5\n",
      "6\n",
      "7\n",
      "8\n",
      "9\n",
      "10\n"
     ]
    }
   ],
   "source": [
    "number = [1,2,3,3,4,5,6,7,8,9,10] # Varaible name should be as your choice\n",
    "for num in number:\n",
    "    print(num)"
   ]
  },
  {
   "cell_type": "code",
   "execution_count": 64,
   "metadata": {},
   "outputs": [
    {
     "name": "stdout",
     "output_type": "stream",
     "text": [
      "Alice, that was a great trick!\n",
      "David, that was a great trick!\n",
      "Carolina, that was a great trick!\n",
      "I can't wait to see your next trick, Carolina.\n",
      "\n"
     ]
    }
   ],
   "source": [
    "magicians = ['alice', 'david', 'carolina']\n",
    "for magician in magicians:\n",
    "    print(magician.title() + \", that was a great trick!\")\n",
    "print(\"I can't wait to see your next trick, \" + magician.title() + \".\\n\")"
   ]
  },
  {
   "cell_type": "markdown",
   "metadata": {},
   "source": [
    " # Making Numerical Lists"
   ]
  },
  {
   "cell_type": "code",
   "execution_count": 65,
   "metadata": {},
   "outputs": [
    {
     "name": "stdout",
     "output_type": "stream",
     "text": [
      "0\n",
      "1\n",
      "2\n",
      "3\n",
      "4\n",
      "5\n",
      "6\n",
      "7\n",
      "8\n",
      "9\n"
     ]
    }
   ],
   "source": [
    "# range() Function\n",
    "for n in range(0,10):\n",
    "    print(n)"
   ]
  },
  {
   "cell_type": "code",
   "execution_count": 66,
   "metadata": {},
   "outputs": [
    {
     "name": "stdout",
     "output_type": "stream",
     "text": [
      "[1, 2, 3, 4, 5]\n"
     ]
    }
   ],
   "source": [
    "# Using range() to Make a List of Numbers\n",
    "number = list(range(1,6))\n",
    "print(number)\n"
   ]
  },
  {
   "cell_type": "code",
   "execution_count": 67,
   "metadata": {},
   "outputs": [
    {
     "name": "stdout",
     "output_type": "stream",
     "text": [
      "[1, 4, 9, 16, 25, 36, 49, 64, 81, 100]\n"
     ]
    }
   ],
   "source": [
    "#example\n",
    "squares = []\n",
    "for value in range(1,11):\n",
    "    square = value ** 2\n",
    "    squares.append(square)\n",
    "print(squares)"
   ]
  },
  {
   "cell_type": "markdown",
   "metadata": {},
   "source": [
    " # Simple Statistics with a List of Numbers"
   ]
  },
  {
   "cell_type": "code",
   "execution_count": 68,
   "metadata": {},
   "outputs": [
    {
     "name": "stdout",
     "output_type": "stream",
     "text": [
      "[1, 4, 9, 16, 25, 36, 49, 64, 81, 100]\n"
     ]
    }
   ],
   "source": [
    "print(squares)"
   ]
  },
  {
   "cell_type": "code",
   "execution_count": 69,
   "metadata": {},
   "outputs": [
    {
     "data": {
      "text/plain": [
       "1"
      ]
     },
     "execution_count": 69,
     "metadata": {},
     "output_type": "execute_result"
    }
   ],
   "source": [
    "min(squares)"
   ]
  },
  {
   "cell_type": "code",
   "execution_count": 70,
   "metadata": {},
   "outputs": [
    {
     "data": {
      "text/plain": [
       "100"
      ]
     },
     "execution_count": 70,
     "metadata": {},
     "output_type": "execute_result"
    }
   ],
   "source": [
    "max(squares)"
   ]
  },
  {
   "cell_type": "code",
   "execution_count": 71,
   "metadata": {},
   "outputs": [
    {
     "data": {
      "text/plain": [
       "385"
      ]
     },
     "execution_count": 71,
     "metadata": {},
     "output_type": "execute_result"
    }
   ],
   "source": [
    "sum(squares)"
   ]
  },
  {
   "cell_type": "markdown",
   "metadata": {},
   "source": [
    "# List comprehension"
   ]
  },
  {
   "cell_type": "code",
   "execution_count": 72,
   "metadata": {},
   "outputs": [
    {
     "name": "stdout",
     "output_type": "stream",
     "text": [
      "[1, 4, 9, 16, 25, 36, 49, 64, 81, 100]\n"
     ]
    }
   ],
   "source": [
    "squares = [value ** 2 for value in range(1,11)]\n",
    "print(squares)"
   ]
  },
  {
   "cell_type": "markdown",
   "metadata": {},
   "source": [
    "# Slicing a List\n"
   ]
  },
  {
   "cell_type": "code",
   "execution_count": 73,
   "metadata": {},
   "outputs": [
    {
     "name": "stdout",
     "output_type": "stream",
     "text": [
      "['Ganesh', 'Virat', 'Rohit']\n"
     ]
    }
   ],
   "source": [
    "name = ['Ganesh','Virat','Rohit','Dhawan','Rania']\n",
    "print(name[0:3])"
   ]
  },
  {
   "cell_type": "markdown",
   "metadata": {},
   "source": [
    " # Copying a List"
   ]
  },
  {
   "cell_type": "code",
   "execution_count": 74,
   "metadata": {},
   "outputs": [
    {
     "name": "stdout",
     "output_type": "stream",
     "text": [
      "My favourites food are\n",
      "['Briyani', 'Burger', 'Chicken']\n",
      "\n",
      " My friends food are\n",
      "['Briyani', 'Burger', 'Chicken']\n"
     ]
    }
   ],
   "source": [
    "my_food =['Briyani','Burger','Chicken']\n",
    "friends_food = my_food[:]\n",
    "\n",
    "print('My favourites food are')\n",
    "print(my_food)\n",
    "\n",
    "print('\\n My friends food are')\n",
    "print(friends_food)"
   ]
  },
  {
   "cell_type": "markdown",
   "metadata": {},
   "source": [
    " # Tuples"
   ]
  },
  {
   "cell_type": "markdown",
   "metadata": {},
   "source": [
    "Tuples allow you to do just that. Python refers to values that cannot change as immutable, and an immutable list is called a tuple."
   ]
  },
  {
   "cell_type": "markdown",
   "metadata": {},
   "source": [
    "A tuple looks just like a list except you use parentheses instead of square brackets. Once you define a tuple, you can access individual elements by using each item’s index, just as you would for a list."
   ]
  },
  {
   "cell_type": "code",
   "execution_count": 75,
   "metadata": {},
   "outputs": [
    {
     "name": "stdout",
     "output_type": "stream",
     "text": [
      "(10, 200)\n"
     ]
    }
   ],
   "source": [
    "#tuple\n",
    "dimensions = (10,200)\n",
    "print(dimensions)"
   ]
  },
  {
   "cell_type": "code",
   "execution_count": 76,
   "metadata": {},
   "outputs": [
    {
     "name": "stdout",
     "output_type": "stream",
     "text": [
      "10\n"
     ]
    }
   ],
   "source": [
    "print(dimensions[0])"
   ]
  },
  {
   "cell_type": "code",
   "execution_count": 77,
   "metadata": {},
   "outputs": [
    {
     "name": "stdout",
     "output_type": "stream",
     "text": [
      "200\n"
     ]
    }
   ],
   "source": [
    "print(dimensions[1])"
   ]
  },
  {
   "cell_type": "code",
   "execution_count": 78,
   "metadata": {},
   "outputs": [
    {
     "name": "stdout",
     "output_type": "stream",
     "text": [
      "10\n",
      "200\n"
     ]
    }
   ],
   "source": [
    "# For loop using tuple\n",
    "for n in dimensions:\n",
    "    print(n)"
   ]
  },
  {
   "cell_type": "markdown",
   "metadata": {},
   "source": [
    "# Since Tuple are not modified.For begining this knowledge is enough."
   ]
  },
  {
   "cell_type": "markdown",
   "metadata": {},
   "source": [
    "# If Statements in Pythons :=================================="
   ]
  },
  {
   "cell_type": "markdown",
   "metadata": {},
   "source": [
    "Programming often involves examining a set of conditions and deciding which action to take based on those conditions.\n",
    "Python’s if statement allows you to examine the current state of a program and respond appropriately to that state."
   ]
  },
  {
   "cell_type": "code",
   "execution_count": 79,
   "metadata": {},
   "outputs": [
    {
     "name": "stdout",
     "output_type": "stream",
     "text": [
      "Audi\n",
      "BMW\n",
      "Jeep\n",
      "Ford\n"
     ]
    }
   ],
   "source": [
    "car = ['audi','bmw','jeep','ford']\n",
    "for i in car:\n",
    "    if i == 'bmw':\n",
    "        print (i.upper())\n",
    "    else:\n",
    "        print (i.title())\n",
    "        "
   ]
  },
  {
   "cell_type": "markdown",
   "metadata": {},
   "source": [
    "# Checking for Inequality"
   ]
  },
  {
   "cell_type": "code",
   "execution_count": 80,
   "metadata": {},
   "outputs": [
    {
     "name": "stdout",
     "output_type": "stream",
     "text": [
      "Hold the anchovies!\n"
     ]
    }
   ],
   "source": [
    "requested_topping = 'mushrooms'\n",
    "if requested_topping != 'anchovies':\n",
    "    print(\"Hold the anchovies!\")"
   ]
  },
  {
   "cell_type": "markdown",
   "metadata": {},
   "source": [
    " # Boolean Expressions"
   ]
  },
  {
   "cell_type": "code",
   "execution_count": 83,
   "metadata": {},
   "outputs": [
    {
     "data": {
      "text/plain": [
       "True"
      ]
     },
     "execution_count": 83,
     "metadata": {},
     "output_type": "execute_result"
    }
   ],
   "source": [
    "10==10"
   ]
  },
  {
   "cell_type": "code",
   "execution_count": 82,
   "metadata": {},
   "outputs": [
    {
     "data": {
      "text/plain": [
       "True"
      ]
     },
     "execution_count": 82,
     "metadata": {},
     "output_type": "execute_result"
    }
   ],
   "source": [
    "100 ==100"
   ]
  },
  {
   "cell_type": "code",
   "execution_count": 84,
   "metadata": {},
   "outputs": [
    {
     "name": "stdout",
     "output_type": "stream",
     "text": [
      "You cant VOTE!!!!\n"
     ]
    }
   ],
   "source": [
    "# Simple IF test.\n",
    "age = 19\n",
    "if age >= 18:\n",
    "    print(\"You cant VOTE!!!!\")"
   ]
  },
  {
   "cell_type": "code",
   "execution_count": 85,
   "metadata": {},
   "outputs": [
    {
     "name": "stdout",
     "output_type": "stream",
     "text": [
      "Sorry, you are too young to vote.\n",
      "Please register to vote as soon as you turn 18!\n"
     ]
    }
   ],
   "source": [
    "#if - else statement.\n",
    "age = 17\n",
    "if age >= 18:\n",
    "    print(\"You are old enough to vote!\")\n",
    "    print(\"Have you registered to vote yet?\")\n",
    "else:\n",
    "    print(\"Sorry, you are too young to vote.\")\n",
    "    print(\"Please register to vote as soon as you turn 18!\")"
   ]
  },
  {
   "cell_type": "code",
   "execution_count": 86,
   "metadata": {},
   "outputs": [
    {
     "name": "stdout",
     "output_type": "stream",
     "text": [
      "Cost of fees is 15$\n"
     ]
    }
   ],
   "source": [
    "#if -elif - else Statement.\n",
    "age = 12\n",
    "if age < 4:\n",
    "    print('Cost of fees is 0$')\n",
    "elif age < 18 :\n",
    "    print('Cost of fees is 15$')\n",
    "else:\n",
    "    print('Cost of fees is  50$')"
   ]
  },
  {
   "cell_type": "code",
   "execution_count": 87,
   "metadata": {},
   "outputs": [
    {
     "name": "stdout",
     "output_type": "stream",
     "text": [
      "Adding mushrooms.\n",
      "Adding extra cheese.\n",
      "\n",
      "Finished making your pizza!\n"
     ]
    }
   ],
   "source": [
    "# Test Multiple condition.\n",
    "requested_toppings = ['mushrooms', 'extra cheese']\n",
    "if 'mushrooms' in requested_toppings:\n",
    "    print(\"Adding mushrooms.\")\n",
    "if 'pepperoni' in requested_toppings:\n",
    "    print(\"Adding pepperoni.\")\n",
    "if 'extra cheese' in requested_toppings:\n",
    "    print(\"Adding extra cheese.\")\n",
    "\n",
    "print(\"\\nFinished making your pizza!\")"
   ]
  },
  {
   "cell_type": "code",
   "execution_count": 89,
   "metadata": {},
   "outputs": [
    {
     "name": "stdout",
     "output_type": "stream",
     "text": [
      "Adding mushrooms.\n",
      "Sorry, we don't have french fries.\n",
      "Adding extra cheese.\n",
      "\n",
      "Finished making your pizza!\n"
     ]
    }
   ],
   "source": [
    "#Example \n",
    "available_toppings = ['mushrooms', 'olives', 'green peppers','pepperoni', 'pineapple', 'extra cheese']\n",
    "requested_toppings = ['mushrooms', 'french fries', 'extra cheese']\n",
    "for requested_topping in requested_toppings:\n",
    "    if requested_topping in available_toppings:\n",
    "        print(\"Adding \" + requested_topping + \".\")\n",
    "    else:\n",
    "        print(\"Sorry, we don't have \" + requested_topping + \".\")\n",
    "            \n",
    "\n",
    "print(\"\\nFinished making your pizza!\")"
   ]
  },
  {
   "cell_type": "markdown",
   "metadata": {},
   "source": [
    "# Dictionaries"
   ]
  },
  {
   "cell_type": "markdown",
   "metadata": {},
   "source": [
    "# A dictionary in Python is a collection of key-value pairs. Each key is connected to a value, and you can use a key to access the value associated with that key.\n",
    "# A key’s value can be a number, a string, a list, or even another dictionary."
   ]
  },
  {
   "cell_type": "code",
   "execution_count": 90,
   "metadata": {},
   "outputs": [],
   "source": [
    "classes = {'name': 'Ganesh kasturi','age':21}"
   ]
  },
  {
   "cell_type": "code",
   "execution_count": 91,
   "metadata": {},
   "outputs": [
    {
     "name": "stdout",
     "output_type": "stream",
     "text": [
      "{'name': 'Ganesh kasturi', 'age': 21}\n"
     ]
    }
   ],
   "source": [
    "print(classes)"
   ]
  },
  {
   "cell_type": "code",
   "execution_count": 92,
   "metadata": {},
   "outputs": [
    {
     "name": "stdout",
     "output_type": "stream",
     "text": [
      "Ganesh kasturi\n"
     ]
    }
   ],
   "source": [
    "print(classes['name'])"
   ]
  },
  {
   "cell_type": "code",
   "execution_count": 93,
   "metadata": {},
   "outputs": [
    {
     "name": "stdout",
     "output_type": "stream",
     "text": [
      "{'name': 'Ganesh kasturi', 'age': 21}\n"
     ]
    }
   ],
   "source": [
    "print(classes)"
   ]
  },
  {
   "cell_type": "code",
   "execution_count": 96,
   "metadata": {},
   "outputs": [
    {
     "name": "stdout",
     "output_type": "stream",
     "text": [
      "Your age 21 is correct\n"
     ]
    }
   ],
   "source": [
    "new_group = classes['age']\n",
    "print('Your age ' +str(new_group)+' is correct')"
   ]
  },
  {
   "cell_type": "code",
   "execution_count": 97,
   "metadata": {},
   "outputs": [
    {
     "name": "stdout",
     "output_type": "stream",
     "text": [
      "{'name': 'Ganesh kasturi', 'age': 21}\n"
     ]
    }
   ],
   "source": [
    "print(classes)"
   ]
  },
  {
   "cell_type": "code",
   "execution_count": 99,
   "metadata": {},
   "outputs": [
    {
     "name": "stdout",
     "output_type": "stream",
     "text": [
      "{'name': 'Ganesh kasturi', 'age': 21, 'study': 'Computer Science', 'locaction': 'Mumbai'}\n"
     ]
    }
   ],
   "source": [
    "#Adding new dict\n",
    "classes['study'] ='Computer Science'\n",
    "classes['locaction'] ='Mumbai'\n",
    "print(classes)"
   ]
  },
  {
   "cell_type": "code",
   "execution_count": 100,
   "metadata": {},
   "outputs": [
    {
     "name": "stdout",
     "output_type": "stream",
     "text": [
      "{'name': 'Ganesh kasturi', 'age': 21, 'study': 'Computer Science', 'locaction': 'Mumbai', 'Country': 'India'}\n"
     ]
    }
   ],
   "source": [
    "classes['Country'] = 'India'\n",
    "print(classes)"
   ]
  },
  {
   "cell_type": "code",
   "execution_count": 101,
   "metadata": {},
   "outputs": [
    {
     "name": "stdout",
     "output_type": "stream",
     "text": [
      "{'height': 5.7, 'weight': 75, 'skin': 'Fair', 'Educated': 'YES'}\n"
     ]
    }
   ],
   "source": [
    "#Starting with a empty dictionary\n",
    "man = {}\n",
    "man['height'] = 5.7\n",
    "man['weight'] = 75\n",
    "man['skin'] = 'Fair'\n",
    "man['Educated']= 'YES'\n",
    "print(man)"
   ]
  },
  {
   "cell_type": "code",
   "execution_count": 102,
   "metadata": {},
   "outputs": [
    {
     "name": "stdout",
     "output_type": "stream",
     "text": [
      "{'height': 5.7, 'weight': 75, 'skin': 'Fair', 'Educated': 'YES'}\n"
     ]
    }
   ],
   "source": [
    "# Modifying the dictionary\n",
    "print(man)\n"
   ]
  },
  {
   "cell_type": "code",
   "execution_count": 103,
   "metadata": {},
   "outputs": [
    {
     "name": "stdout",
     "output_type": "stream",
     "text": [
      "{'height': 5.7, 'weight': 75, 'skin': 'Black', 'Educated': 'YES', 'weigth': 80}\n"
     ]
    }
   ],
   "source": [
    "man['weigth'] = 80\n",
    "man['skin'] = 'Black'\n",
    "print(man)"
   ]
  },
  {
   "cell_type": "code",
   "execution_count": 104,
   "metadata": {},
   "outputs": [
    {
     "name": "stdout",
     "output_type": "stream",
     "text": [
      "{'height': 5.7, 'weight': 75, 'skin': 'Black', 'Educated': 'YES', 'weigth': 80}\n"
     ]
    }
   ],
   "source": [
    "# Removing key value pairs.\n",
    "print(man)"
   ]
  },
  {
   "cell_type": "code",
   "execution_count": 105,
   "metadata": {},
   "outputs": [
    {
     "name": "stdout",
     "output_type": "stream",
     "text": [
      "{'height': 5.7, 'weight': 75, 'Educated': 'YES', 'weigth': 80}\n"
     ]
    }
   ],
   "source": [
    "del man['skin']\n",
    "print(man)"
   ]
  },
  {
   "cell_type": "markdown",
   "metadata": {},
   "source": [
    "# Looping Through a Dictionary"
   ]
  },
  {
   "cell_type": "markdown",
   "metadata": {},
   "source": [
    "Looping Through All Key-Value Pairs"
   ]
  },
  {
   "cell_type": "code",
   "execution_count": 109,
   "metadata": {},
   "outputs": [
    {
     "name": "stdout",
     "output_type": "stream",
     "text": [
      "Ganesh s my favorite is Python.\n",
      "Virat s my favorite is Java.\n",
      "Rohit s my favorite is C++.\n",
      "Dhoni s my favorite is Sql.\n"
     ]
    }
   ],
   "source": [
    "# For loop using dict.\n",
    "favorite_languages = {'Ganesh':'Python','Virat':'Java','Rohit':'C++','Dhoni':'SQL'}\n",
    "for name,languages in favorite_languages.items():\n",
    "    print(name.title()+ ' s my favorite is '+languages.title() + '.')"
   ]
  },
  {
   "cell_type": "markdown",
   "metadata": {},
   "source": [
    "# User Input"
   ]
  },
  {
   "cell_type": "code",
   "execution_count": 111,
   "metadata": {},
   "outputs": [
    {
     "name": "stdout",
     "output_type": "stream",
     "text": [
      "Enter the name: Ganesh\n",
      "Ganesh\n"
     ]
    }
   ],
   "source": [
    "# imput() function\n",
    "name = input(\"Enter the name: \")\n",
    "print(name)"
   ]
  },
  {
   "cell_type": "code",
   "execution_count": 113,
   "metadata": {},
   "outputs": [
    {
     "name": "stdout",
     "output_type": "stream",
     "text": [
      "Enter the name : Ganesh kasturi\n",
      "The name is Ganesh kasturi who is teaching python\n"
     ]
    }
   ],
   "source": [
    "name = input('Enter the name : ')\n",
    "print('The name is '+name+' who is teaching python')"
   ]
  },
  {
   "cell_type": "code",
   "execution_count": 118,
   "metadata": {},
   "outputs": [
    {
     "name": "stdout",
     "output_type": "stream",
     "text": [
      "Enter the height: 21\n",
      "21  is not allowed to ride\n"
     ]
    }
   ],
   "source": [
    "height =int(input('Enter the height: '))\n",
    "if height >= 25:\n",
    "    print(str(height)+ '  Is ready to ride')\n",
    "else:\n",
    "    print(str(height) + '  is not allowed to ride')"
   ]
  },
  {
   "cell_type": "markdown",
   "metadata": {},
   "source": [
    "The Modulo Operator\n"
   ]
  },
  {
   "cell_type": "code",
   "execution_count": 119,
   "metadata": {},
   "outputs": [
    {
     "data": {
      "text/plain": [
       "2"
      ]
     },
     "execution_count": 119,
     "metadata": {},
     "output_type": "execute_result"
    }
   ],
   "source": [
    "7 % 5"
   ]
  },
  {
   "cell_type": "code",
   "execution_count": 120,
   "metadata": {},
   "outputs": [
    {
     "data": {
      "text/plain": [
       "2"
      ]
     },
     "execution_count": 120,
     "metadata": {},
     "output_type": "execute_result"
    }
   ],
   "source": [
    "8 % 6"
   ]
  },
  {
   "cell_type": "code",
   "execution_count": 122,
   "metadata": {},
   "outputs": [
    {
     "name": "stdout",
     "output_type": "stream",
     "text": [
      "Enter the number,to check even or odd:  77\n",
      "The Number 77 is ODD\n"
     ]
    }
   ],
   "source": [
    "# Even or odd program.\n",
    "number = int(input('Enter the number,to check even or odd:  '))\n",
    "if number % 2 == 0:\n",
    "    print('The Number '+str(number)+ ' is EVEN')\n",
    "else:\n",
    "    print('The Number '+str(number)+ ' is ODD')"
   ]
  },
  {
   "cell_type": "markdown",
   "metadata": {},
   "source": [
    "# while Loops:"
   ]
  },
  {
   "cell_type": "markdown",
   "metadata": {},
   "source": [
    "The while loop runs as long as, or while, a certain condition is true. \n"
   ]
  },
  {
   "cell_type": "code",
   "execution_count": 123,
   "metadata": {},
   "outputs": [
    {
     "name": "stdout",
     "output_type": "stream",
     "text": [
      "X is currenty 0\n",
      "Enter a new value which is less than 10\n",
      "X is currenty 1\n",
      "Enter a new value which is less than 10\n",
      "X is currenty 2\n",
      "Enter a new value which is less than 10\n",
      "X is currenty 3\n",
      "Enter a new value which is less than 10\n",
      "X is currenty 4\n",
      "Enter a new value which is less than 10\n",
      "X is currenty 5\n",
      "Enter a new value which is less than 10\n",
      "X is currenty 6\n",
      "Enter a new value which is less than 10\n",
      "X is currenty 7\n",
      "Enter a new value which is less than 10\n",
      "X is currenty 8\n",
      "Enter a new value which is less than 10\n",
      "X is currenty 9\n",
      "Enter a new value which is less than 10\n"
     ]
    }
   ],
   "source": [
    "x = 0\n",
    "while x < 10:\n",
    "    print('X is currenty', x)\n",
    "    print('Enter a new value which is less than 10')\n",
    "    x = x + 1"
   ]
  },
  {
   "cell_type": "code",
   "execution_count": 124,
   "metadata": {},
   "outputs": [
    {
     "name": "stdout",
     "output_type": "stream",
     "text": [
      "X is currenty 0\n",
      "Enter a new value which is less than 10\n",
      "X is currenty 1\n",
      "Enter a new value which is less than 10\n",
      "X is currenty 2\n",
      "Enter a new value which is less than 10\n",
      "X is currenty 3\n",
      "Enter a new value which is less than 10\n",
      "X is currenty 4\n",
      "Enter a new value which is less than 10\n",
      "X is currenty 5\n",
      "Enter a new value which is less than 10\n",
      "X is currenty 6\n",
      "Enter a new value which is less than 10\n",
      "X is currenty 7\n",
      "Enter a new value which is less than 10\n",
      "X is currenty 8\n",
      "Enter a new value which is less than 10\n",
      "X is currenty 9\n",
      "Enter a new value which is less than 10\n",
      "Done with it\n"
     ]
    }
   ],
   "source": [
    "# while using else:\n",
    "x = 0\n",
    "while x < 10:\n",
    "    print('X is currenty', x)\n",
    "    print('Enter a new value which is less than 10')\n",
    "    x = x + 1\n",
    "else:\n",
    "    print('Done with it')"
   ]
  },
  {
   "cell_type": "code",
   "execution_count": 128,
   "metadata": {},
   "outputs": [
    {
     "name": "stdout",
     "output_type": "stream",
     "text": [
      "x is currently 0\n",
      "Continue\n",
      "x is currently 1\n",
      "Continue\n",
      "x is currently 2\n",
      "Continue\n",
      "x is currently 3\n",
      "Continue\n",
      "x is currently 4\n",
      "3 have been reached and close the loop\n"
     ]
    }
   ],
   "source": [
    "x = 0\n",
    "while x < 10:\n",
    "    print('x is currently' , x)\n",
    "    x = x + 1\n",
    "    if (x==5):\n",
    "        print(\"3 have been reached and close the loop\")\n",
    "        break\n",
    "    else:\n",
    "        print('Continue')\n",
    "        continue"
   ]
  },
  {
   "cell_type": "code",
   "execution_count": 129,
   "metadata": {},
   "outputs": [
    {
     "name": "stdout",
     "output_type": "stream",
     "text": [
      "['dog', 'cat', 'dog', 'goldfish', 'cat', 'rabbit', 'cat']\n"
     ]
    }
   ],
   "source": [
    "# Example\n",
    "pets = ['dog', 'cat', 'dog', 'goldfish', 'cat', 'rabbit', 'cat']\n",
    "print(pets)"
   ]
  },
  {
   "cell_type": "code",
   "execution_count": 130,
   "metadata": {},
   "outputs": [],
   "source": [
    "while 'cat' in pets:\n",
    "    pets.remove('cat')"
   ]
  },
  {
   "cell_type": "code",
   "execution_count": 131,
   "metadata": {},
   "outputs": [
    {
     "name": "stdout",
     "output_type": "stream",
     "text": [
      "['dog', 'dog', 'goldfish', 'rabbit']\n"
     ]
    }
   ],
   "source": [
    "print(pets)"
   ]
  },
  {
   "cell_type": "markdown",
   "metadata": {},
   "source": [
    " # Functions"
   ]
  },
  {
   "cell_type": "code",
   "execution_count": 132,
   "metadata": {},
   "outputs": [],
   "source": [
    "def greet_user():\n",
    "    print('Hello User')\n"
   ]
  },
  {
   "cell_type": "code",
   "execution_count": 133,
   "metadata": {},
   "outputs": [
    {
     "name": "stdout",
     "output_type": "stream",
     "text": [
      "Hello User\n"
     ]
    }
   ],
   "source": [
    "greet_user()"
   ]
  },
  {
   "cell_type": "code",
   "execution_count": 134,
   "metadata": {},
   "outputs": [],
   "source": [
    "def greet_user(username):\n",
    "    print('Hello '+username.title()+' !')\n"
   ]
  },
  {
   "cell_type": "code",
   "execution_count": 135,
   "metadata": {},
   "outputs": [
    {
     "name": "stdout",
     "output_type": "stream",
     "text": [
      "Hello Ganesh !\n"
     ]
    }
   ],
   "source": [
    "greet_user('Ganesh')"
   ]
  },
  {
   "cell_type": "code",
   "execution_count": 136,
   "metadata": {},
   "outputs": [],
   "source": [
    "def number(num1,num2):\n",
    "    return num1 + num2"
   ]
  },
  {
   "cell_type": "code",
   "execution_count": 137,
   "metadata": {},
   "outputs": [
    {
     "data": {
      "text/plain": [
       "11"
      ]
     },
     "execution_count": 137,
     "metadata": {},
     "output_type": "execute_result"
    }
   ],
   "source": [
    "number(5,6)"
   ]
  },
  {
   "cell_type": "code",
   "execution_count": 143,
   "metadata": {},
   "outputs": [],
   "source": [
    "# Prime Number or not\n",
    "def prime(num):\n",
    "    for n in range(2,num):\n",
    "        if num % n == 0:\n",
    "            print(num,'Enter number is not even')\n",
    "            break\n",
    "    else:\n",
    "        print(num,'Number is Even')"
   ]
  },
  {
   "cell_type": "code",
   "execution_count": 144,
   "metadata": {},
   "outputs": [
    {
     "name": "stdout",
     "output_type": "stream",
     "text": [
      "16 Enter number is not even\n"
     ]
    }
   ],
   "source": [
    "prime(16)"
   ]
  },
  {
   "cell_type": "code",
   "execution_count": 145,
   "metadata": {},
   "outputs": [
    {
     "name": "stdout",
     "output_type": "stream",
     "text": [
      "17 Number is Even\n"
     ]
    }
   ],
   "source": [
    "prime(17)"
   ]
  },
  {
   "cell_type": "code",
   "execution_count": 152,
   "metadata": {},
   "outputs": [],
   "source": [
    "def name(student,age):\n",
    "    print('The '+student+' is soo smart')\n",
    "    print(str(age)+ ' is only this!!!!!!!')\n",
    "    "
   ]
  },
  {
   "cell_type": "code",
   "execution_count": 153,
   "metadata": {},
   "outputs": [
    {
     "name": "stdout",
     "output_type": "stream",
     "text": [
      "The Ganesh is soo smart\n",
      "21 is only this!!!!!!!\n"
     ]
    }
   ],
   "source": [
    "name('Ganesh',21)"
   ]
  },
  {
   "cell_type": "code",
   "execution_count": 154,
   "metadata": {},
   "outputs": [
    {
     "name": "stdout",
     "output_type": "stream",
     "text": [
      "The Kasturi is soo smart\n",
      "100 is only this!!!!!!!\n"
     ]
    }
   ],
   "source": [
    "name('Kasturi',100)"
   ]
  },
  {
   "cell_type": "code",
   "execution_count": 156,
   "metadata": {},
   "outputs": [
    {
     "name": "stdout",
     "output_type": "stream",
     "text": [
      "Ganesh Kasturi\n"
     ]
    }
   ],
   "source": [
    "def full_name(first_name,second_name):\n",
    "    full_name = first_name+' '+second_name\n",
    "    return full_name\n",
    "form = full_name('Ganesh','Kasturi')\n",
    "print(form)"
   ]
  },
  {
   "cell_type": "code",
   "execution_count": 162,
   "metadata": {},
   "outputs": [],
   "source": [
    "# Returning a Dictionary\n",
    "def dict_1(first_name,second_name):\n",
    "    person = {'first':first_name,'second':second_name}\n",
    "    return person\n"
   ]
  },
  {
   "cell_type": "code",
   "execution_count": 163,
   "metadata": {},
   "outputs": [
    {
     "name": "stdout",
     "output_type": "stream",
     "text": [
      "{'first': 'Ganesh', 'second': 'Kasturi'}\n"
     ]
    }
   ],
   "source": [
    "sum = dict_1('Ganesh','Kasturi')\n",
    "print(sum)"
   ]
  },
  {
   "cell_type": "code",
   "execution_count": 4,
   "metadata": {},
   "outputs": [],
   "source": [
    "# Returing a Lists\n",
    "def users_name(names):\n",
    "    for name in names:\n",
    "        print('Hello '+name.title()+' !')\n",
    "        "
   ]
  },
  {
   "cell_type": "code",
   "execution_count": 5,
   "metadata": {},
   "outputs": [
    {
     "name": "stdout",
     "output_type": "stream",
     "text": [
      "Hello Ganesh !\n",
      "Hello Kasturi !\n",
      "Hello Laxman !\n"
     ]
    }
   ],
   "source": [
    "username =['Ganesh','kasturi','Laxman']\n",
    "users_name(username)"
   ]
  },
  {
   "cell_type": "markdown",
   "metadata": {},
   "source": [
    "# Classes and Objects:\n"
   ]
  },
  {
   "cell_type": "code",
   "execution_count": 31,
   "metadata": {},
   "outputs": [
    {
     "name": "stdout",
     "output_type": "stream",
     "text": [
      "Radius is:  1\n",
      "Area is:  3.14\n",
      "Circumference is:  6.28\n"
     ]
    }
   ],
   "source": [
    "class Circle:\n",
    "    pi = 3.14\n",
    "\n",
    "    # Circle gets instantiated with a radius (default is 1)\n",
    "    def __init__(self, radius=1):\n",
    "        self.radius = radius \n",
    "        self.area = radius * radius * Circle.pi\n",
    "\n",
    "    # Method for resetting Radius\n",
    "    def setRadius(self, new_radius):\n",
    "        self.radius = new_radius\n",
    "        self.area = new_radius * new_radius * self.pi\n",
    "\n",
    "    # Method for getting Circumference\n",
    "    def getCircumference(self):\n",
    "        return self.radius * self.pi * 2\n",
    "\n",
    "\n",
    "c = Circle()\n",
    "\n",
    "print('Radius is: ',c.radius)\n",
    "print('Area is: ',c.area)\n",
    "print('Circumference is: ',c.getCircumference())"
   ]
  },
  {
   "cell_type": "markdown",
   "metadata": {},
   "source": [
    "# Inheritance"
   ]
  },
  {
   "cell_type": "code",
   "execution_count": 32,
   "metadata": {},
   "outputs": [],
   "source": [
    "class Animal:\n",
    "    def __init__(self):\n",
    "        print(\"Animal created\")\n",
    "\n",
    "    def whoAmI(self):\n",
    "        print(\"Animal\")\n",
    "\n",
    "    def eat(self):\n",
    "        print(\"Eating\")\n",
    "\n",
    "\n",
    "class Dog(Animal):\n",
    "    def __init__(self):\n",
    "        Animal.__init__(self)\n",
    "        print(\"Dog created\")\n",
    "\n",
    "    def whoAmI(self):\n",
    "        print(\"Dog\")\n",
    "\n",
    "    def bark(self):\n",
    "        print(\"Woof!\")"
   ]
  },
  {
   "cell_type": "code",
   "execution_count": 33,
   "metadata": {},
   "outputs": [
    {
     "name": "stdout",
     "output_type": "stream",
     "text": [
      "Animal created\n",
      "Dog created\n"
     ]
    }
   ],
   "source": [
    "d = Dog()"
   ]
  },
  {
   "cell_type": "code",
   "execution_count": 38,
   "metadata": {},
   "outputs": [
    {
     "name": "stdout",
     "output_type": "stream",
     "text": [
      "Woof!\n"
     ]
    }
   ],
   "source": [
    "d.bark()"
   ]
  },
  {
   "cell_type": "code",
   "execution_count": 39,
   "metadata": {},
   "outputs": [
    {
     "name": "stdout",
     "output_type": "stream",
     "text": [
      "Eating\n"
     ]
    }
   ],
   "source": [
    "d.eat()"
   ]
  },
  {
   "cell_type": "code",
   "execution_count": 40,
   "metadata": {},
   "outputs": [
    {
     "name": "stdout",
     "output_type": "stream",
     "text": [
      "Dog\n"
     ]
    }
   ],
   "source": [
    "d.whoAmI()"
   ]
  },
  {
   "cell_type": "markdown",
   "metadata": {},
   "source": [
    "# End \n",
    "# OFF Basic \n",
    "# Thank You\n",
    "# ------------------------------------- Ganesh kasturi ------------------------------------------------"
   ]
  },
  {
   "cell_type": "code",
   "execution_count": null,
   "metadata": {},
   "outputs": [],
   "source": []
  }
 ],
 "metadata": {
  "kernelspec": {
   "display_name": "Python 3",
   "language": "python",
   "name": "python3"
  },
  "language_info": {
   "codemirror_mode": {
    "name": "ipython",
    "version": 3
   },
   "file_extension": ".py",
   "mimetype": "text/x-python",
   "name": "python",
   "nbconvert_exporter": "python",
   "pygments_lexer": "ipython3",
   "version": "3.7.3"
  }
 },
 "nbformat": 4,
 "nbformat_minor": 2
}
